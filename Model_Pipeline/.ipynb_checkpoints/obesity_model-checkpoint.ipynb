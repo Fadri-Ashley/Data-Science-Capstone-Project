{
 "cells": [
  {
   "cell_type": "code",
   "execution_count": 17,
   "id": "9de6455e-84c0-4eb1-bb48-d2c748e702d6",
   "metadata": {},
   "outputs": [],
   "source": [
    "# Import Library\n",
    "import pandas as pd\n",
    "import numpy as np"
   ]
  },
  {
   "cell_type": "code",
   "execution_count": 18,
   "id": "33d13434-2304-4a89-be76-a73d425c6613",
   "metadata": {},
   "outputs": [],
   "source": [
    "# Read Dataset\n",
    "df = pd.read_csv('ObesityDataSet.csv')"
   ]
  },
  {
   "cell_type": "code",
   "execution_count": 19,
   "id": "0cf87377-16a1-451c-a56f-129d6af10a88",
   "metadata": {},
   "outputs": [
    {
     "data": {
      "text/html": [
       "<div>\n",
       "<style scoped>\n",
       "    .dataframe tbody tr th:only-of-type {\n",
       "        vertical-align: middle;\n",
       "    }\n",
       "\n",
       "    .dataframe tbody tr th {\n",
       "        vertical-align: top;\n",
       "    }\n",
       "\n",
       "    .dataframe thead th {\n",
       "        text-align: right;\n",
       "    }\n",
       "</style>\n",
       "<table border=\"1\" class=\"dataframe\">\n",
       "  <thead>\n",
       "    <tr style=\"text-align: right;\">\n",
       "      <th></th>\n",
       "      <th>Age</th>\n",
       "      <th>Gender</th>\n",
       "      <th>Height</th>\n",
       "      <th>Weight</th>\n",
       "      <th>CALC</th>\n",
       "      <th>FAVC</th>\n",
       "      <th>FCVC</th>\n",
       "      <th>NCP</th>\n",
       "      <th>SCC</th>\n",
       "      <th>SMOKE</th>\n",
       "      <th>CH2O</th>\n",
       "      <th>family_history_with_overweight</th>\n",
       "      <th>FAF</th>\n",
       "      <th>TUE</th>\n",
       "      <th>CAEC</th>\n",
       "      <th>MTRANS</th>\n",
       "      <th>NObeyesdad</th>\n",
       "    </tr>\n",
       "  </thead>\n",
       "  <tbody>\n",
       "    <tr>\n",
       "      <th>0</th>\n",
       "      <td>21</td>\n",
       "      <td>Female</td>\n",
       "      <td>1.62</td>\n",
       "      <td>64</td>\n",
       "      <td>no</td>\n",
       "      <td>no</td>\n",
       "      <td>2</td>\n",
       "      <td>3</td>\n",
       "      <td>no</td>\n",
       "      <td>no</td>\n",
       "      <td>2</td>\n",
       "      <td>yes</td>\n",
       "      <td>0</td>\n",
       "      <td>1</td>\n",
       "      <td>Sometimes</td>\n",
       "      <td>Public_Transportation</td>\n",
       "      <td>Normal_Weight</td>\n",
       "    </tr>\n",
       "    <tr>\n",
       "      <th>1</th>\n",
       "      <td>21</td>\n",
       "      <td>Female</td>\n",
       "      <td>1.52</td>\n",
       "      <td>56</td>\n",
       "      <td>Sometimes</td>\n",
       "      <td>no</td>\n",
       "      <td>3</td>\n",
       "      <td>3</td>\n",
       "      <td>yes</td>\n",
       "      <td>yes</td>\n",
       "      <td>3</td>\n",
       "      <td>yes</td>\n",
       "      <td>3</td>\n",
       "      <td>0</td>\n",
       "      <td>Sometimes</td>\n",
       "      <td>Public_Transportation</td>\n",
       "      <td>Normal_Weight</td>\n",
       "    </tr>\n",
       "    <tr>\n",
       "      <th>2</th>\n",
       "      <td>23</td>\n",
       "      <td>Male</td>\n",
       "      <td>1.8</td>\n",
       "      <td>77</td>\n",
       "      <td>Frequently</td>\n",
       "      <td>no</td>\n",
       "      <td>2</td>\n",
       "      <td>3</td>\n",
       "      <td>no</td>\n",
       "      <td>no</td>\n",
       "      <td>2</td>\n",
       "      <td>yes</td>\n",
       "      <td>2</td>\n",
       "      <td>1</td>\n",
       "      <td>Sometimes</td>\n",
       "      <td>Public_Transportation</td>\n",
       "      <td>Normal_Weight</td>\n",
       "    </tr>\n",
       "    <tr>\n",
       "      <th>3</th>\n",
       "      <td>27</td>\n",
       "      <td>Male</td>\n",
       "      <td>1.8</td>\n",
       "      <td>87</td>\n",
       "      <td>Frequently</td>\n",
       "      <td>no</td>\n",
       "      <td>3</td>\n",
       "      <td>3</td>\n",
       "      <td>no</td>\n",
       "      <td>no</td>\n",
       "      <td>2</td>\n",
       "      <td>no</td>\n",
       "      <td>2</td>\n",
       "      <td>0</td>\n",
       "      <td>Sometimes</td>\n",
       "      <td>Walking</td>\n",
       "      <td>Overweight_Level_I</td>\n",
       "    </tr>\n",
       "    <tr>\n",
       "      <th>4</th>\n",
       "      <td>22</td>\n",
       "      <td>Male</td>\n",
       "      <td>1.78</td>\n",
       "      <td>89.8</td>\n",
       "      <td>Sometimes</td>\n",
       "      <td>no</td>\n",
       "      <td>2</td>\n",
       "      <td>1</td>\n",
       "      <td>no</td>\n",
       "      <td>no</td>\n",
       "      <td>2</td>\n",
       "      <td>no</td>\n",
       "      <td>0</td>\n",
       "      <td>0</td>\n",
       "      <td>Sometimes</td>\n",
       "      <td>Public_Transportation</td>\n",
       "      <td>Overweight_Level_II</td>\n",
       "    </tr>\n",
       "  </tbody>\n",
       "</table>\n",
       "</div>"
      ],
      "text/plain": [
       "  Age  Gender Height Weight        CALC FAVC FCVC NCP  SCC SMOKE CH2O  \\\n",
       "0  21  Female   1.62     64          no   no    2   3   no    no    2   \n",
       "1  21  Female   1.52     56   Sometimes   no    3   3  yes   yes    3   \n",
       "2  23    Male    1.8     77  Frequently   no    2   3   no    no    2   \n",
       "3  27    Male    1.8     87  Frequently   no    3   3   no    no    2   \n",
       "4  22    Male   1.78   89.8   Sometimes   no    2   1   no    no    2   \n",
       "\n",
       "  family_history_with_overweight FAF TUE       CAEC                 MTRANS  \\\n",
       "0                            yes   0   1  Sometimes  Public_Transportation   \n",
       "1                            yes   3   0  Sometimes  Public_Transportation   \n",
       "2                            yes   2   1  Sometimes  Public_Transportation   \n",
       "3                             no   2   0  Sometimes                Walking   \n",
       "4                             no   0   0  Sometimes  Public_Transportation   \n",
       "\n",
       "            NObeyesdad  \n",
       "0        Normal_Weight  \n",
       "1        Normal_Weight  \n",
       "2        Normal_Weight  \n",
       "3   Overweight_Level_I  \n",
       "4  Overweight_Level_II  "
      ]
     },
     "execution_count": 19,
     "metadata": {},
     "output_type": "execute_result"
    }
   ],
   "source": [
    "df.head()"
   ]
  },
  {
   "cell_type": "markdown",
   "id": "04ef0a2a-f425-4d15-a54b-944c62577483",
   "metadata": {},
   "source": [
    "| Fitur                                 | Deskripsi                                                                                       |\n",
    "| ------------------------------------- | ----------------------------------------------------------------------------------------------- |\n",
    "| **Age**                               | Umur responden (dalam tahun)                                                                    |\n",
    "| **Gender**                            | Jenis kelamin (`Male`, `Female`)                                                                |\n",
    "| **Height**                            | Tinggi badan (dalam meter)                                                                      |\n",
    "| **Weight**                            | Berat badan (dalam kg)                                                                          |\n",
    "| **CALC**                              | Seberapa sering minum alkohol (kategori: `no`, `Sometimes`, `Frequently`, `Always`)             |\n",
    "| **FAVC**                              | Apakah sering mengonsumsi makanan tinggi kalori? (`yes` / `no`)                                 |\n",
    "| **FCVC**                              | Frekuensi konsumsi sayuran dalam setiap makan (skala 1–3, makin besar makin sehat)              |\n",
    "| **NCP**                               | Jumlah kali makan dalam sehari (Number of meals per day)                                        |\n",
    "| **SCC**                               | Apakah kamu mengikuti saran dari ahli gizi? (`yes` / `no`)                                      |\n",
    "| **SMOKE**                             | Apakah merokok? (`yes` / `no`)                                                                  |\n",
    "| **CH2O**                              | Konsumsi air putih per hari (skala 1–3)                                                         |\n",
    "| **family\\_history\\_with\\_overweight** | Riwayat keluarga dengan kelebihan berat badan? (`yes` / `no`)                                   |\n",
    "| **FAF**                               | Aktivitas fisik mingguan dalam jam (Physical activity frequency)                                |\n",
    "| **TUE**                               | Waktu yang dihabiskan di depan layar (TV, komputer, hp) per hari (skala jam)                    |\n",
    "| **CAEC**                              | Frekuensi makan camilan (kategori: `no`, `Sometimes`, `Frequently`, `Always`)                   |\n",
    "| **MTRANS**                            | Moda transportasi utama (`Automobile`, `Motorbike`, `Bike`, `Public_Transportation`, `Walking`) |\n",
    "| **NObeyesdad** | Kategori status berat badan / obesitas. Contoh nilai: `Insufficient_Weight`, `Normal_Weight`, `Overweight_Level_I`, `Overweight_Level_II`, `Obesity_Type_I`, `Obesity_Type_II`, `Obesity_Type_III` |\n"
   ]
  },
  {
   "cell_type": "code",
   "execution_count": 20,
   "id": "db729538-54d2-43f6-8757-5394ff92b32b",
   "metadata": {},
   "outputs": [
    {
     "name": "stdout",
     "output_type": "stream",
     "text": [
      "<class 'pandas.core.frame.DataFrame'>\n",
      "RangeIndex: 2111 entries, 0 to 2110\n",
      "Data columns (total 17 columns):\n",
      " #   Column                          Non-Null Count  Dtype \n",
      "---  ------                          --------------  ----- \n",
      " 0   Age                             2097 non-null   object\n",
      " 1   Gender                          2102 non-null   object\n",
      " 2   Height                          2099 non-null   object\n",
      " 3   Weight                          2100 non-null   object\n",
      " 4   CALC                            2106 non-null   object\n",
      " 5   FAVC                            2100 non-null   object\n",
      " 6   FCVC                            2103 non-null   object\n",
      " 7   NCP                             2099 non-null   object\n",
      " 8   SCC                             2101 non-null   object\n",
      " 9   SMOKE                           2106 non-null   object\n",
      " 10  CH2O                            2105 non-null   object\n",
      " 11  family_history_with_overweight  2098 non-null   object\n",
      " 12  FAF                             2103 non-null   object\n",
      " 13  TUE                             2102 non-null   object\n",
      " 14  CAEC                            2100 non-null   object\n",
      " 15  MTRANS                          2105 non-null   object\n",
      " 16  NObeyesdad                      2111 non-null   object\n",
      "dtypes: object(17)\n",
      "memory usage: 280.5+ KB\n"
     ]
    }
   ],
   "source": [
    "df.info()"
   ]
  },
  {
   "cell_type": "markdown",
   "id": "7924aab0-2277-474f-9b4a-c5a26a48fc6f",
   "metadata": {},
   "source": [
    "**Dataset obesity menggunakan tipe data object pada semua feature** \n",
    "<br>\n",
    "**Jadi beberapa dari feature harus diubah**"
   ]
  },
  {
   "cell_type": "code",
   "execution_count": 21,
   "id": "3356dcb7-a96d-4901-8215-d010879af357",
   "metadata": {},
   "outputs": [
    {
     "data": {
      "text/html": [
       "<div>\n",
       "<style scoped>\n",
       "    .dataframe tbody tr th:only-of-type {\n",
       "        vertical-align: middle;\n",
       "    }\n",
       "\n",
       "    .dataframe tbody tr th {\n",
       "        vertical-align: top;\n",
       "    }\n",
       "\n",
       "    .dataframe thead th {\n",
       "        text-align: right;\n",
       "    }\n",
       "</style>\n",
       "<table border=\"1\" class=\"dataframe\">\n",
       "  <thead>\n",
       "    <tr style=\"text-align: right;\">\n",
       "      <th></th>\n",
       "      <th>Age</th>\n",
       "      <th>Gender</th>\n",
       "      <th>Height</th>\n",
       "      <th>Weight</th>\n",
       "      <th>CALC</th>\n",
       "      <th>FAVC</th>\n",
       "      <th>FCVC</th>\n",
       "      <th>NCP</th>\n",
       "      <th>SCC</th>\n",
       "      <th>SMOKE</th>\n",
       "      <th>CH2O</th>\n",
       "      <th>family_history_with_overweight</th>\n",
       "      <th>FAF</th>\n",
       "      <th>TUE</th>\n",
       "      <th>CAEC</th>\n",
       "      <th>MTRANS</th>\n",
       "      <th>NObeyesdad</th>\n",
       "    </tr>\n",
       "  </thead>\n",
       "  <tbody>\n",
       "    <tr>\n",
       "      <th>count</th>\n",
       "      <td>2097</td>\n",
       "      <td>2102</td>\n",
       "      <td>2099</td>\n",
       "      <td>2100</td>\n",
       "      <td>2106</td>\n",
       "      <td>2100</td>\n",
       "      <td>2103</td>\n",
       "      <td>2099</td>\n",
       "      <td>2101</td>\n",
       "      <td>2106</td>\n",
       "      <td>2105</td>\n",
       "      <td>2098</td>\n",
       "      <td>2103</td>\n",
       "      <td>2102</td>\n",
       "      <td>2100</td>\n",
       "      <td>2105</td>\n",
       "      <td>2111</td>\n",
       "    </tr>\n",
       "    <tr>\n",
       "      <th>unique</th>\n",
       "      <td>1394</td>\n",
       "      <td>3</td>\n",
       "      <td>1562</td>\n",
       "      <td>1518</td>\n",
       "      <td>5</td>\n",
       "      <td>3</td>\n",
       "      <td>808</td>\n",
       "      <td>637</td>\n",
       "      <td>3</td>\n",
       "      <td>3</td>\n",
       "      <td>1263</td>\n",
       "      <td>3</td>\n",
       "      <td>1186</td>\n",
       "      <td>1130</td>\n",
       "      <td>5</td>\n",
       "      <td>6</td>\n",
       "      <td>7</td>\n",
       "    </tr>\n",
       "    <tr>\n",
       "      <th>top</th>\n",
       "      <td>18</td>\n",
       "      <td>Male</td>\n",
       "      <td>1.7</td>\n",
       "      <td>80</td>\n",
       "      <td>Sometimes</td>\n",
       "      <td>yes</td>\n",
       "      <td>3</td>\n",
       "      <td>3</td>\n",
       "      <td>no</td>\n",
       "      <td>no</td>\n",
       "      <td>2</td>\n",
       "      <td>yes</td>\n",
       "      <td>0</td>\n",
       "      <td>0</td>\n",
       "      <td>Sometimes</td>\n",
       "      <td>Public_Transportation</td>\n",
       "      <td>Obesity_Type_I</td>\n",
       "    </tr>\n",
       "    <tr>\n",
       "      <th>freq</th>\n",
       "      <td>124</td>\n",
       "      <td>1056</td>\n",
       "      <td>58</td>\n",
       "      <td>58</td>\n",
       "      <td>1386</td>\n",
       "      <td>1844</td>\n",
       "      <td>647</td>\n",
       "      <td>1183</td>\n",
       "      <td>1997</td>\n",
       "      <td>2054</td>\n",
       "      <td>441</td>\n",
       "      <td>1705</td>\n",
       "      <td>404</td>\n",
       "      <td>552</td>\n",
       "      <td>1747</td>\n",
       "      <td>1572</td>\n",
       "      <td>351</td>\n",
       "    </tr>\n",
       "  </tbody>\n",
       "</table>\n",
       "</div>"
      ],
      "text/plain": [
       "         Age Gender Height Weight       CALC  FAVC  FCVC   NCP   SCC SMOKE  \\\n",
       "count   2097   2102   2099   2100       2106  2100  2103  2099  2101  2106   \n",
       "unique  1394      3   1562   1518          5     3   808   637     3     3   \n",
       "top       18   Male    1.7     80  Sometimes   yes     3     3    no    no   \n",
       "freq     124   1056     58     58       1386  1844   647  1183  1997  2054   \n",
       "\n",
       "        CH2O family_history_with_overweight   FAF   TUE       CAEC  \\\n",
       "count   2105                           2098  2103  2102       2100   \n",
       "unique  1263                              3  1186  1130          5   \n",
       "top        2                            yes     0     0  Sometimes   \n",
       "freq     441                           1705   404   552       1747   \n",
       "\n",
       "                       MTRANS      NObeyesdad  \n",
       "count                    2105            2111  \n",
       "unique                      6               7  \n",
       "top     Public_Transportation  Obesity_Type_I  \n",
       "freq                     1572             351  "
      ]
     },
     "execution_count": 21,
     "metadata": {},
     "output_type": "execute_result"
    }
   ],
   "source": [
    "df.describe()"
   ]
  },
  {
   "cell_type": "code",
   "execution_count": 22,
   "id": "0516ff38-20b0-4e29-aae1-3e4fdeac1416",
   "metadata": {},
   "outputs": [
    {
     "data": {
      "text/plain": [
       "Age                               14\n",
       "Gender                             9\n",
       "Height                            12\n",
       "Weight                            11\n",
       "CALC                               5\n",
       "FAVC                              11\n",
       "FCVC                               8\n",
       "NCP                               12\n",
       "SCC                               10\n",
       "SMOKE                              5\n",
       "CH2O                               6\n",
       "family_history_with_overweight    13\n",
       "FAF                                8\n",
       "TUE                                9\n",
       "CAEC                              11\n",
       "MTRANS                             6\n",
       "NObeyesdad                         0\n",
       "dtype: int64"
      ]
     },
     "execution_count": 22,
     "metadata": {},
     "output_type": "execute_result"
    }
   ],
   "source": [
    "# Mengecek nilai kosong\n",
    "df.isnull().sum()"
   ]
  },
  {
   "cell_type": "markdown",
   "id": "cc49c40d-aa7f-4483-86b7-c4eaebc894fe",
   "metadata": {},
   "source": [
    "**Terdapat banyak nilai kosong**"
   ]
  },
  {
   "cell_type": "code",
   "execution_count": 23,
   "id": "c5506f00-2075-43c6-bde1-e21974619e47",
   "metadata": {},
   "outputs": [
    {
     "data": {
      "text/plain": [
       "np.int64(18)"
      ]
     },
     "execution_count": 23,
     "metadata": {},
     "output_type": "execute_result"
    }
   ],
   "source": [
    "# Mengecek duplikasi\n",
    "df.duplicated().sum()"
   ]
  },
  {
   "cell_type": "code",
   "execution_count": 25,
   "id": "af3ec0dc-cb64-4a95-96b3-5253d798d14c",
   "metadata": {},
   "outputs": [
    {
     "data": {
      "text/plain": [
       "<Axes: xlabel='NObeyesdad'>"
      ]
     },
     "execution_count": 25,
     "metadata": {},
     "output_type": "execute_result"
    },
    {
     "data": {
      "image/png": "[encoded data removed]",
      "text/plain": [
       "<Figure size 640x480 with 1 Axes>"
      ]
     },
     "metadata": {},
     "output_type": "display_data"
    }
   ],
   "source": [
    "# Mengecek apakah distribusi kelas seimbang?\n",
    "df['NObeyesdad'].value_counts().plot(kind='bar')"
   ]
  },
  {
   "cell_type": "markdown",
   "id": "4450b30e-ecca-4468-847f-8e7e43c9171e",
   "metadata": {},
   "source": [
    "***Lakukan EDA lagi, habis itu lanjut preprocessing***"
   ]
  }
 ],
 "metadata": {
  "kernelspec": {
   "display_name": "Python 3 (ipykernel)",
   "language": "python",
   "name": "python3"
  },
  "language_info": {
   "codemirror_mode": {
    "name": "ipython",
    "version": 3
   },
   "file_extension": ".py",
   "mimetype": "text/x-python",
   "name": "python",
   "nbconvert_exporter": "python",
   "pygments_lexer": "ipython3",
   "version": "3.13.0"
  }
 },
 "nbformat": 4,
 "nbformat_minor": 5
}
